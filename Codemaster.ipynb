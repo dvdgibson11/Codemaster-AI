{
 "cells": [
  {
   "cell_type": "code",
   "execution_count": 1,
   "metadata": {},
   "outputs": [
    {
     "name": "stderr",
     "output_type": "stream",
     "text": [
      "D:\\anaconda\\lib\\site-packages\\gensim\\utils.py:1209: UserWarning: detected Windows; aliasing chunkize to chunkize_serial\n",
      "  warnings.warn(\"detected Windows; aliasing chunkize to chunkize_serial\")\n"
     ]
    }
   ],
   "source": [
    "import codemaster as cm\n",
    "import numpy as np\n",
    "import random\n",
    "import gensim\n",
    "from nltk.corpus import words\n",
    "from functools import reduce\n",
    "import heapq\n"
   ]
  },
  {
   "cell_type": "code",
   "execution_count": 18,
   "metadata": {},
   "outputs": [],
   "source": [
    "model_wiki.save_word2vec_format(fname=\"wikipedia-vectors\", binary=True)"
   ]
  },
  {
   "cell_type": "code",
   "execution_count": 14,
   "metadata": {},
   "outputs": [],
   "source": [
    "wrds = np.genfromtxt('wordlist.csv', delimiter=',', dtype=str).tolist()\n",
    "\n",
    "# randomly select 25 cards, then randomly select a side for each\n",
    "board = [x[random.random() > 0.5].lower() for x in random.sample(wrds, 25)]\n",
    "\n",
    "# set up game by assigning each card (agent) a role\n",
    "player1 = board[:9]\n",
    "player2 = board[9:17]\n",
    "neutral = board[17:24]\n",
    "assassin = board[24]\n"
   ]
  },
  {
   "cell_type": "code",
   "execution_count": 19,
   "metadata": {},
   "outputs": [
    {
     "ename": "AttributeError",
     "evalue": "module 'gensim.models' has no attribute 'KeyedVecotrs'",
     "output_type": "error",
     "traceback": [
      "\u001b[1;31m---------------------------------------------------------------------------\u001b[0m",
      "\u001b[1;31mAttributeError\u001b[0m                            Traceback (most recent call last)",
      "\u001b[1;32m<ipython-input-19-a9f20bfe6fa2>\u001b[0m in \u001b[0;36m<module>\u001b[1;34m()\u001b[0m\n\u001b[0;32m      2\u001b[0m \u001b[1;31m# load model pre-trained on Google News corpus (downloaded from https://drive.google.com/file/d/0B7XkCwpI5KDYNlNUTTlSS21pQmM/edit)\u001b[0m\u001b[1;33m\u001b[0m\u001b[1;33m\u001b[0m\u001b[0m\n\u001b[0;32m      3\u001b[0m \u001b[0mmodel_gnews\u001b[0m \u001b[1;33m=\u001b[0m \u001b[0mgensim\u001b[0m\u001b[1;33m.\u001b[0m\u001b[0mmodels\u001b[0m\u001b[1;33m.\u001b[0m\u001b[0mKeyedVectors\u001b[0m\u001b[1;33m.\u001b[0m\u001b[0mload_word2vec_format\u001b[0m\u001b[1;33m(\u001b[0m\u001b[1;34m'GoogleNews-vectors-negative300.bin'\u001b[0m\u001b[1;33m,\u001b[0m \u001b[0mbinary\u001b[0m\u001b[1;33m=\u001b[0m\u001b[1;32mTrue\u001b[0m\u001b[1;33m)\u001b[0m\u001b[1;33m\u001b[0m\u001b[0m\n\u001b[1;32m----> 4\u001b[1;33m \u001b[0mmodel_wiki\u001b[0m \u001b[1;33m=\u001b[0m \u001b[0mgensim\u001b[0m\u001b[1;33m.\u001b[0m\u001b[0mmodels\u001b[0m\u001b[1;33m.\u001b[0m\u001b[0mKeyedVecotrs\u001b[0m\u001b[1;33m.\u001b[0m\u001b[0mload_word2vec_format\u001b[0m\u001b[1;33m(\u001b[0m\u001b[1;34m\"wikipedia-vectors.bin\"\u001b[0m\u001b[1;33m,\u001b[0m \u001b[0mbinary\u001b[0m\u001b[1;33m=\u001b[0m\u001b[1;32mTrue\u001b[0m\u001b[1;33m)\u001b[0m\u001b[1;33m\u001b[0m\u001b[0m\n\u001b[0m\u001b[0;32m      5\u001b[0m \u001b[1;31m# choose candidate clues from nltk's words corpus, which itself is drawn from the UNIX words file\u001b[0m\u001b[1;33m\u001b[0m\u001b[1;33m\u001b[0m\u001b[0m\n\u001b[0;32m      6\u001b[0m \u001b[0mdct\u001b[0m \u001b[1;33m=\u001b[0m \u001b[0mwords\u001b[0m\u001b[1;33m.\u001b[0m\u001b[0mwords\u001b[0m\u001b[1;33m(\u001b[0m\u001b[1;34m'en'\u001b[0m\u001b[1;33m)\u001b[0m\u001b[1;33m\u001b[0m\u001b[0m\n",
      "\u001b[1;31mAttributeError\u001b[0m: module 'gensim.models' has no attribute 'KeyedVecotrs'"
     ]
    }
   ],
   "source": [
    "\n",
    "# load model pre-trained on Google News corpus (downloaded from https://drive.google.com/file/d/0B7XkCwpI5KDYNlNUTTlSS21pQmM/edit)\n",
    "model_gnews = gensim.models.KeyedVectors.load_word2vec_format('GoogleNews-vectors-negative300.bin', binary=True)\n",
    "model_wiki = gensim.models.KeyedVectors.load_word2vec_format(\"wikipedia-vectors.bin\", binary=True)\n",
    "# choose candidate clues from nltk's words corpus, which itself is drawn from the UNIX words file\n",
    "dct = words.words('en')\n"
   ]
  },
  {
   "cell_type": "code",
   "execution_count": 4,
   "metadata": {},
   "outputs": [],
   "source": [
    "# returns potential clues which are closer to all members of targets than all members of avoids, sorted in order of relevance to targets\n",
    "def clue (model, targets, avoids, similarity_f, score_f, n=1):\n",
    "    topclues = []\n",
    "    for word in dct:\n",
    "        if word not in model.vocab:\n",
    "            continue\n",
    "        if avoids:\n",
    "            target_distances = [similarity_f(model, word, target) for target in targets]\n",
    "            avoid_distances = [similarity_f(model, word, avoid) for avoid in avoids]\n",
    "            if max(avoid_distances) > min(target_distances):\n",
    "                continue\n",
    "        score = score_f([similarity_f(model, word, target) for target in targets])\n",
    "        if reduce((lambda x, y: y not in word and word not in y and x), targets, True):\n",
    "            if len(topclues) < n:\n",
    "                heapq.heappush(topclues, (score, word))\n",
    "            elif score > topclues[0][0]:\n",
    "                heapq.heapreplace(topclues, (score, word))\n",
    "    return sorted(topclues, key=lambda x: x[0], reverse=True)"
   ]
  },
  {
   "cell_type": "code",
   "execution_count": 5,
   "metadata": {},
   "outputs": [],
   "source": [
    "def model_sim(model, word, target):\n",
    "    return model.similarity(word, target)\n"
   ]
  },
  {
   "cell_type": "code",
   "execution_count": 15,
   "metadata": {},
   "outputs": [
    {
     "name": "stderr",
     "output_type": "stream",
     "text": [
      "D:\\anaconda\\lib\\site-packages\\gensim\\matutils.py:737: FutureWarning: Conversion of the second argument of issubdtype from `int` to `np.signedinteger` is deprecated. In future, it will be treated as `np.int32 == np.dtype(int).type`.\n",
      "  if np.issubdtype(vec.dtype, np.int):\n"
     ]
    },
    {
     "name": "stdout",
     "output_type": "stream",
     "text": [
      "SUM\n",
      "Top clues for pair ['agent', 'vacuum'] : [(0.6577949821949005, 'cyclopentane'), (0.6358997821807861, 'void'), (0.5346177965402603, 'neutralizer'), (0.5331879258155823, 'agency'), (0.5154851078987122, 'anticorrosive')]\n",
      "MIN\n",
      "Top clues for pair ['agent', 'vacuum'] : [(0.32664225, 'cyclopentane'), (0.24732275, 'neutralizer'), (0.22673756, 'fixer'), (0.22448832, 'botulin'), (0.22108072, 'embolic')]\n"
     ]
    }
   ],
   "source": [
    "candidates = clue(model_gnews, board[:2], [], model_sim, sum, n=5)\n",
    "candidates_1 = clue(model_gnews, board[:2], [], model_sim, min, n=5)\n",
    "print (\"SUM\")\n",
    "print ('Top clues for pair', board[:2], ':', candidates)\n",
    "print (\"MIN\")\n",
    "print ('Top clues for pair', board[:2], ':', candidates_1)\n"
   ]
  },
  {
   "cell_type": "code",
   "execution_count": 21,
   "metadata": {},
   "outputs": [
    {
     "name": "stderr",
     "output_type": "stream",
     "text": [
      "D:\\anaconda\\lib\\site-packages\\gensim\\matutils.py:737: FutureWarning: Conversion of the second argument of issubdtype from `int` to `np.signedinteger` is deprecated. In future, it will be treated as `np.int32 == np.dtype(int).type`.\n",
      "  if np.issubdtype(vec.dtype, np.int):\n"
     ]
    },
    {
     "name": "stdout",
     "output_type": "stream",
     "text": [
      "SUM\n",
      "Top clues for pair ['agent', 'vacuum'] : [(0.6149706989526749, 'refrigerant'), (0.6125208139419556, 'device'), (0.6112737357616425, 'solvent'), (0.6090558767318726, 'cryogen'), (0.5995049998164177, 'fluid')]\n",
      "MIN\n",
      "Top clues for pair ['agent', 'vacuum'] : [(0.25143254, 'hemostatic'), (0.2470825, 'simulant'), (0.24146003, 'cryogen'), (0.240347, 'operator'), (0.23518406, 'welder')]\n"
     ]
    }
   ],
   "source": [
    "candidates = clue(model_wiki, board[:2], [], model_sim, sum, n=5)\n",
    "candidates_1 = clue(model_wiki, board[:2], [], model_sim, min, n=5)\n",
    "print (\"SUM\")\n",
    "print ('Top clues for pair', board[:2], ':', candidates)\n",
    "print (\"MIN\")\n",
    "print ('Top clues for pair', board[:2], ':', candidates_1)\n"
   ]
  },
  {
   "cell_type": "code",
   "execution_count": 37,
   "metadata": {},
   "outputs": [
    {
     "name": "stdout",
     "output_type": "stream",
     "text": [
      "[]\n"
     ]
    },
    {
     "name": "stderr",
     "output_type": "stream",
     "text": [
      "D:\\anaconda\\lib\\site-packages\\gensim\\matutils.py:737: FutureWarning: Conversion of the second argument of issubdtype from `int` to `np.signedinteger` is deprecated. In future, it will be treated as `np.int32 == np.dtype(int).type`.\n",
      "  if np.issubdtype(vec.dtype, np.int):\n"
     ]
    },
    {
     "name": "stdout",
     "output_type": "stream",
     "text": [
      "[(0.26550764, 'palm', 'maple', 'hollywood'), (0.2763111, 'sugar', 'maple', 'iron'), (0.26584077, 'chokecherry', 'maple', 'himalayas'), (0.28439158, 'silver', 'maple', 'iron'), (0.2793153, 'conifer', 'maple', 'himalayas'), (0.26961198, 'laurel', 'maple', 'hollywood'), (0.27526456, 'gold', 'maple', 'iron'), (0.4546165, 'cherry', 'maple', 'honey'), (0.38182122, 'pecan', 'maple', 'honey'), (0.4285342, 'plum', 'maple', 'honey'), (0.28867325, 'magnolia', 'maple', 'hollywood'), (0.44513336, 'clover', 'maple', 'honey'), (0.28495523, 'deodara', 'maple', 'himalayas'), (0.37311083, 'cranberry', 'maple', 'honey'), (0.28976148, 'crowberry', 'maple', 'himalayas')]\n",
      "[(0.28976148, 'crowberry', 'maple', 'himalayas'), (0.29373997, 'tequila', 'honey', 'hollywood'), (0.294832, 'twirl', 'honey', 'drill'), (0.29974496, 'hillbilly', 'honey', 'hollywood'), (0.300376, 'peddler', 'honey', 'soldier'), (0.2971006, 'dad', 'honey', 'soldier'), (0.31069815, 'dixie', 'honey', 'hollywood'), (0.4546165, 'cherry', 'maple', 'honey'), (0.38182122, 'pecan', 'maple', 'honey'), (0.4285342, 'plum', 'maple', 'honey'), (0.3076811, 'gigolo', 'honey', 'hollywood'), (0.44513336, 'clover', 'maple', 'honey'), (0.30841583, 'ballyhoo', 'honey', 'hollywood'), (0.37311083, 'cranberry', 'maple', 'honey'), (0.34924844, 'girl', 'honey', 'soldier')]\n",
      "[(0.3028673, 'sapper', 'drill', 'soldier'), (0.3031981, 'ferrocerium', 'drill', 'iron'), (0.30569524, 'carabineer', 'drill', 'soldier'), (0.33931053, 'platoon', 'drill', 'soldier'), (0.30729616, 'cored', 'drill', 'iron'), (0.30841583, 'ballyhoo', 'honey', 'hollywood'), (0.31069815, 'dixie', 'honey', 'hollywood'), (0.4546165, 'cherry', 'maple', 'honey'), (0.38182122, 'pecan', 'maple', 'honey'), (0.4285342, 'plum', 'maple', 'honey'), (0.3076811, 'gigolo', 'honey', 'hollywood'), (0.44513336, 'clover', 'maple', 'honey'), (0.32354492, 'leatherneck', 'drill', 'soldier'), (0.37311083, 'cranberry', 'maple', 'honey'), (0.34924844, 'girl', 'honey', 'soldier')]\n",
      "[(0.3028673, 'sapper', 'drill', 'soldier'), (0.3031981, 'ferrocerium', 'drill', 'iron'), (0.30569524, 'carabineer', 'drill', 'soldier'), (0.33931053, 'platoon', 'drill', 'soldier'), (0.30729616, 'cored', 'drill', 'iron'), (0.30841583, 'ballyhoo', 'honey', 'hollywood'), (0.31069815, 'dixie', 'honey', 'hollywood'), (0.4546165, 'cherry', 'maple', 'honey'), (0.38182122, 'pecan', 'maple', 'honey'), (0.4285342, 'plum', 'maple', 'honey'), (0.3076811, 'gigolo', 'honey', 'hollywood'), (0.44513336, 'clover', 'maple', 'honey'), (0.32354492, 'leatherneck', 'drill', 'soldier'), (0.37311083, 'cranberry', 'maple', 'honey'), (0.34924844, 'girl', 'honey', 'soldier')]\n",
      "[(0.3028673, 'sapper', 'drill', 'soldier'), (0.3031981, 'ferrocerium', 'drill', 'iron'), (0.30569524, 'carabineer', 'drill', 'soldier'), (0.33931053, 'platoon', 'drill', 'soldier'), (0.30729616, 'cored', 'drill', 'iron'), (0.30841583, 'ballyhoo', 'honey', 'hollywood'), (0.31069815, 'dixie', 'honey', 'hollywood'), (0.4546165, 'cherry', 'maple', 'honey'), (0.38182122, 'pecan', 'maple', 'honey'), (0.4285342, 'plum', 'maple', 'honey'), (0.3076811, 'gigolo', 'honey', 'hollywood'), (0.44513336, 'clover', 'maple', 'honey'), (0.32354492, 'leatherneck', 'drill', 'soldier'), (0.37311083, 'cranberry', 'maple', 'honey'), (0.34924844, 'girl', 'honey', 'soldier')]\n",
      "[(0.3028673, 'sapper', 'drill', 'soldier'), (0.3031981, 'ferrocerium', 'drill', 'iron'), (0.30569524, 'carabineer', 'drill', 'soldier'), (0.33931053, 'platoon', 'drill', 'soldier'), (0.30729616, 'cored', 'drill', 'iron'), (0.30841583, 'ballyhoo', 'honey', 'hollywood'), (0.31069815, 'dixie', 'honey', 'hollywood'), (0.4546165, 'cherry', 'maple', 'honey'), (0.38182122, 'pecan', 'maple', 'honey'), (0.4285342, 'plum', 'maple', 'honey'), (0.3076811, 'gigolo', 'honey', 'hollywood'), (0.44513336, 'clover', 'maple', 'honey'), (0.32354492, 'leatherneck', 'drill', 'soldier'), (0.37311083, 'cranberry', 'maple', 'honey'), (0.34924844, 'girl', 'honey', 'soldier')]\n",
      "[(0.3028673, 'sapper', 'drill', 'soldier'), (0.3031981, 'ferrocerium', 'drill', 'iron'), (0.30569524, 'carabineer', 'drill', 'soldier'), (0.33931053, 'platoon', 'drill', 'soldier'), (0.30729616, 'cored', 'drill', 'iron'), (0.30841583, 'ballyhoo', 'honey', 'hollywood'), (0.31069815, 'dixie', 'honey', 'hollywood'), (0.4546165, 'cherry', 'maple', 'honey'), (0.38182122, 'pecan', 'maple', 'honey'), (0.4285342, 'plum', 'maple', 'honey'), (0.3076811, 'gigolo', 'honey', 'hollywood'), (0.44513336, 'clover', 'maple', 'honey'), (0.32354492, 'leatherneck', 'drill', 'soldier'), (0.37311083, 'cranberry', 'maple', 'honey'), (0.34924844, 'girl', 'honey', 'soldier')]\n"
     ]
    }
   ],
   "source": [
    "clues = []\n",
    "\n",
    "for i in range(len(player2)):\n",
    "    print (clues)\n",
    "    for j in range(i+1,len(player2)):\n",
    "        targets = []\n",
    "        targets.append(player2[i])\n",
    "        targets.append(player2[j])\n",
    "        candidates = clue(model_gnews, targets, player1, model_sim, min, n=5)\n",
    "        for candidate in candidates:\n",
    "            if len(clues) < 15:\n",
    "                heapq.heappush(clues, (candidate[0], candidate[1], targets[0], targets[1]))\n",
    "            elif candidate[0] > clues[0][0]:\n",
    "                heapq.heapreplace(clues, (candidate[0], candidate[1], targets[0], targets[1]))"
   ]
  },
  {
   "cell_type": "code",
   "execution_count": 38,
   "metadata": {},
   "outputs": [
    {
     "name": "stdout",
     "output_type": "stream",
     "text": [
      "(0.3028673, 'sapper', 'drill', 'soldier')\n",
      "(0.3031981, 'ferrocerium', 'drill', 'iron')\n",
      "(0.30569524, 'carabineer', 'drill', 'soldier')\n",
      "(0.30729616, 'cored', 'drill', 'iron')\n",
      "(0.3076811, 'gigolo', 'honey', 'hollywood')\n",
      "(0.30841583, 'ballyhoo', 'honey', 'hollywood')\n",
      "(0.31069815, 'dixie', 'honey', 'hollywood')\n",
      "(0.32354492, 'leatherneck', 'drill', 'soldier')\n",
      "(0.33931053, 'platoon', 'drill', 'soldier')\n",
      "(0.34924844, 'girl', 'honey', 'soldier')\n",
      "(0.37311083, 'cranberry', 'maple', 'honey')\n",
      "(0.38182122, 'pecan', 'maple', 'honey')\n",
      "(0.4285342, 'plum', 'maple', 'honey')\n",
      "(0.44513336, 'clover', 'maple', 'honey')\n",
      "(0.4546165, 'cherry', 'maple', 'honey')\n",
      "['maple', 'honey', 'drill', 'hollywood', 'soldier', 'iron', 'row', 'himalayas']\n",
      "['rome', 'server', 'satellite', 'ice', 'foot', 'tooth', 'staff', 'ninja', 'brush']\n"
     ]
    }
   ],
   "source": [
    "clues_sorted = sorted(clues, key=lambda x: x[0], reverse=False)\n",
    "for c in clues_sorted:\n",
    "    print (c)\n",
    "print (player2)\n",
    "print (player1)"
   ]
  },
  {
   "cell_type": "code",
   "execution_count": 37,
   "metadata": {},
   "outputs": [
    {
     "name": "stdout",
     "output_type": "stream",
     "text": [
      "[]\n"
     ]
    },
    {
     "name": "stderr",
     "output_type": "stream",
     "text": [
      "D:\\anaconda\\lib\\site-packages\\gensim\\matutils.py:737: FutureWarning: Conversion of the second argument of issubdtype from `int` to `np.signedinteger` is deprecated. In future, it will be treated as `np.int32 == np.dtype(int).type`.\n",
      "  if np.issubdtype(vec.dtype, np.int):\n"
     ]
    },
    {
     "name": "stdout",
     "output_type": "stream",
     "text": [
      "[(0.26550764, 'palm', 'maple', 'hollywood'), (0.2763111, 'sugar', 'maple', 'iron'), (0.26584077, 'chokecherry', 'maple', 'himalayas'), (0.28439158, 'silver', 'maple', 'iron'), (0.2793153, 'conifer', 'maple', 'himalayas'), (0.26961198, 'laurel', 'maple', 'hollywood'), (0.27526456, 'gold', 'maple', 'iron'), (0.4546165, 'cherry', 'maple', 'honey'), (0.38182122, 'pecan', 'maple', 'honey'), (0.4285342, 'plum', 'maple', 'honey'), (0.28867325, 'magnolia', 'maple', 'hollywood'), (0.44513336, 'clover', 'maple', 'honey'), (0.28495523, 'deodara', 'maple', 'himalayas'), (0.37311083, 'cranberry', 'maple', 'honey'), (0.28976148, 'crowberry', 'maple', 'himalayas')]\n",
      "[(0.28976148, 'crowberry', 'maple', 'himalayas'), (0.29373997, 'tequila', 'honey', 'hollywood'), (0.294832, 'twirl', 'honey', 'drill'), (0.29974496, 'hillbilly', 'honey', 'hollywood'), (0.300376, 'peddler', 'honey', 'soldier'), (0.2971006, 'dad', 'honey', 'soldier'), (0.31069815, 'dixie', 'honey', 'hollywood'), (0.4546165, 'cherry', 'maple', 'honey'), (0.38182122, 'pecan', 'maple', 'honey'), (0.4285342, 'plum', 'maple', 'honey'), (0.3076811, 'gigolo', 'honey', 'hollywood'), (0.44513336, 'clover', 'maple', 'honey'), (0.30841583, 'ballyhoo', 'honey', 'hollywood'), (0.37311083, 'cranberry', 'maple', 'honey'), (0.34924844, 'girl', 'honey', 'soldier')]\n",
      "[(0.3028673, 'sapper', 'drill', 'soldier'), (0.3031981, 'ferrocerium', 'drill', 'iron'), (0.30569524, 'carabineer', 'drill', 'soldier'), (0.33931053, 'platoon', 'drill', 'soldier'), (0.30729616, 'cored', 'drill', 'iron'), (0.30841583, 'ballyhoo', 'honey', 'hollywood'), (0.31069815, 'dixie', 'honey', 'hollywood'), (0.4546165, 'cherry', 'maple', 'honey'), (0.38182122, 'pecan', 'maple', 'honey'), (0.4285342, 'plum', 'maple', 'honey'), (0.3076811, 'gigolo', 'honey', 'hollywood'), (0.44513336, 'clover', 'maple', 'honey'), (0.32354492, 'leatherneck', 'drill', 'soldier'), (0.37311083, 'cranberry', 'maple', 'honey'), (0.34924844, 'girl', 'honey', 'soldier')]\n",
      "[(0.3028673, 'sapper', 'drill', 'soldier'), (0.3031981, 'ferrocerium', 'drill', 'iron'), (0.30569524, 'carabineer', 'drill', 'soldier'), (0.33931053, 'platoon', 'drill', 'soldier'), (0.30729616, 'cored', 'drill', 'iron'), (0.30841583, 'ballyhoo', 'honey', 'hollywood'), (0.31069815, 'dixie', 'honey', 'hollywood'), (0.4546165, 'cherry', 'maple', 'honey'), (0.38182122, 'pecan', 'maple', 'honey'), (0.4285342, 'plum', 'maple', 'honey'), (0.3076811, 'gigolo', 'honey', 'hollywood'), (0.44513336, 'clover', 'maple', 'honey'), (0.32354492, 'leatherneck', 'drill', 'soldier'), (0.37311083, 'cranberry', 'maple', 'honey'), (0.34924844, 'girl', 'honey', 'soldier')]\n",
      "[(0.3028673, 'sapper', 'drill', 'soldier'), (0.3031981, 'ferrocerium', 'drill', 'iron'), (0.30569524, 'carabineer', 'drill', 'soldier'), (0.33931053, 'platoon', 'drill', 'soldier'), (0.30729616, 'cored', 'drill', 'iron'), (0.30841583, 'ballyhoo', 'honey', 'hollywood'), (0.31069815, 'dixie', 'honey', 'hollywood'), (0.4546165, 'cherry', 'maple', 'honey'), (0.38182122, 'pecan', 'maple', 'honey'), (0.4285342, 'plum', 'maple', 'honey'), (0.3076811, 'gigolo', 'honey', 'hollywood'), (0.44513336, 'clover', 'maple', 'honey'), (0.32354492, 'leatherneck', 'drill', 'soldier'), (0.37311083, 'cranberry', 'maple', 'honey'), (0.34924844, 'girl', 'honey', 'soldier')]\n",
      "[(0.3028673, 'sapper', 'drill', 'soldier'), (0.3031981, 'ferrocerium', 'drill', 'iron'), (0.30569524, 'carabineer', 'drill', 'soldier'), (0.33931053, 'platoon', 'drill', 'soldier'), (0.30729616, 'cored', 'drill', 'iron'), (0.30841583, 'ballyhoo', 'honey', 'hollywood'), (0.31069815, 'dixie', 'honey', 'hollywood'), (0.4546165, 'cherry', 'maple', 'honey'), (0.38182122, 'pecan', 'maple', 'honey'), (0.4285342, 'plum', 'maple', 'honey'), (0.3076811, 'gigolo', 'honey', 'hollywood'), (0.44513336, 'clover', 'maple', 'honey'), (0.32354492, 'leatherneck', 'drill', 'soldier'), (0.37311083, 'cranberry', 'maple', 'honey'), (0.34924844, 'girl', 'honey', 'soldier')]\n",
      "[(0.3028673, 'sapper', 'drill', 'soldier'), (0.3031981, 'ferrocerium', 'drill', 'iron'), (0.30569524, 'carabineer', 'drill', 'soldier'), (0.33931053, 'platoon', 'drill', 'soldier'), (0.30729616, 'cored', 'drill', 'iron'), (0.30841583, 'ballyhoo', 'honey', 'hollywood'), (0.31069815, 'dixie', 'honey', 'hollywood'), (0.4546165, 'cherry', 'maple', 'honey'), (0.38182122, 'pecan', 'maple', 'honey'), (0.4285342, 'plum', 'maple', 'honey'), (0.3076811, 'gigolo', 'honey', 'hollywood'), (0.44513336, 'clover', 'maple', 'honey'), (0.32354492, 'leatherneck', 'drill', 'soldier'), (0.37311083, 'cranberry', 'maple', 'honey'), (0.34924844, 'girl', 'honey', 'soldier')]\n"
     ]
    }
   ],
   "source": [
    "clues_wiki = []\n",
    "\n",
    "for i in range(len(player2)):\n",
    "    print (clues_wiki)\n",
    "    for j in range(i+1,len(player2)):\n",
    "        targets = []\n",
    "        targets.append(player2[i])\n",
    "        targets.append(player2[j])\n",
    "        candidates = clue(model_wiki, targets, player1, model_sim, min, n=5)\n",
    "        for candidate in candidates:\n",
    "            if len(clues_wiki) < 15:\n",
    "                heapq.heappush(clues_wiki, (candidate[0], candidate[1], targets[0], targets[1]))\n",
    "            elif candidate[0] > clues_wiki[0][0]:\n",
    "                heapq.heapreplace(clues_wiki, (candidate[0], candidate[1], targets[0], targets[1]))"
   ]
  },
  {
   "cell_type": "code",
   "execution_count": null,
   "metadata": {},
   "outputs": [],
   "source": [
    "clues_wiki_sorted = sorted(clues_wiki, key=lambda x: x[0], reverse=False)\n",
    "for c in clues_wiki_sorted:\n",
    "    print (c)\n",
    "print (player2)\n",
    "print (player1)"
   ]
  }
 ],
 "metadata": {
  "kernelspec": {
   "display_name": "Python 3",
   "language": "python",
   "name": "python3"
  },
  "language_info": {
   "codemirror_mode": {
    "name": "ipython",
    "version": 3
   },
   "file_extension": ".py",
   "mimetype": "text/x-python",
   "name": "python",
   "nbconvert_exporter": "python",
   "pygments_lexer": "ipython3",
   "version": "3.6.4"
  }
 },
 "nbformat": 4,
 "nbformat_minor": 2
}
