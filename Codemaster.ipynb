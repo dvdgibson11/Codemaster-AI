{
 "cells": [
  {
   "cell_type": "code",
   "execution_count": null,
   "metadata": {},
   "outputs": [],
   "source": [
    "import numpy as np\n",
    "import random\n",
    "import gensim\n",
    "from nltk.corpus import words\n",
    "from functools import reduce\n",
    "import heapq\n"
   ]
  },
  {
   "cell_type": "code",
   "execution_count": null,
   "metadata": {},
   "outputs": [],
   "source": [
    "wrds = np.genfromtxt('wordlist.csv', delimiter=',', dtype=str).tolist()\n",
    "\n",
    "# randomly select 25 cards, then randomly select a side for each\n",
    "board = [x[random.random() > 0.5].lower() for x in random.sample(wrds, 25)]\n",
    "\n",
    "# set up game by assigning each card (agent) a role\n",
    "player1 = board[:9]\n",
    "player2 = board[9:17]\n",
    "neutral = board[17:24]\n",
    "assassin = board[24]\n"
   ]
  },
  {
   "cell_type": "code",
   "execution_count": null,
   "metadata": {},
   "outputs": [],
   "source": [
    "\n",
    "# load model pre-trained on Google News corpus (downloaded from https://drive.google.com/file/d/0B7XkCwpI5KDYNlNUTTlSS21pQmM/edit)\n",
    "# model_gnews = gensim.models.KeyedVectors.load_word2vec_format('GoogleNews-vectors-negative300.bin', binary=True)\n",
    "model_wiki = gensim.models.KeyedVectors.load_word2vec_format(\"wikipedia-vectors.bin\", binary=True)\n",
    "# choose candidate clues from nltk's words corpus, which itself is drawn from the UNIX words file\n",
    "dct = words.words('en')\n"
   ]
  },
  {
   "cell_type": "code",
   "execution_count": null,
   "metadata": {},
   "outputs": [],
   "source": [
    "# returns potential clues which are closer to all members of targets than all members of avoids, sorted in order of relevance to targets\n",
    "def clue (model, targets, avoids, similarity_f, score_f, n=1):\n",
    "    topclues = []\n",
    "    for word in dct:\n",
    "        if word not in model.vocab:\n",
    "            continue\n",
    "        if avoids:\n",
    "            target_distances = [similarity_f(model, word, target) for target in targets]\n",
    "            avoid_distances = [similarity_f(model, word, avoid) for avoid in avoids]\n",
    "            if max(avoid_distances) > min(target_distances):\n",
    "                continue\n",
    "        score = score_f([similarity_f(model, word, target) for target in targets])\n",
    "        if reduce((lambda x, y: y not in word and word not in y and x), targets, True):\n",
    "            if len(topclues) < n:\n",
    "                heapq.heappush(topclues, (score, word))\n",
    "            elif score > topclues[0][0]:\n",
    "                heapq.heapreplace(topclues, (score, word))\n",
    "    return sorted(topclues, key=lambda x: x[0], reverse=True)"
   ]
  },
  {
   "cell_type": "code",
   "execution_count": null,
   "metadata": {},
   "outputs": [],
   "source": [
    "def fast_clue (model, targets, avoids, similarity_f):\n",
    "    best_clue = (-1, None)\n",
    "    for word in dct:\n",
    "        if word not in model.vocab:\n",
    "            continue\n",
    "        closest_avoid = -1\n",
    "        for avoid in avoids:\n",
    "            closest_avoid = max(closest_avoid, similarity_f(model, word, avoid))\n",
    "        closest_targets = []\n",
    "        for target in targets:\n",
    "            if target not in word and word not in target:\n",
    "                score = similarity_f(model, word, target)\n",
    "                if len(closest_targets) < 2:\n",
    "                    heapq.heappush(closest_targets, (score, target))\n",
    "                elif score > closest_targets[0][0]:\n",
    "                    heapq.heapreplace(closest_targets, (score, target))\n",
    "        if len(closest_targets) >= 2:\n",
    "            if closest_targets[0][0] > best_clue[0]:\n",
    "                best_clue = (closest_targets[0][0], word, [x[1] for x in closest_targets])\n",
    "    return best_clue"
   ]
  },
  {
   "cell_type": "code",
   "execution_count": null,
   "metadata": {},
   "outputs": [],
   "source": [
    "def model_sim(model, word, target):\n",
    "    return model.similarity(word, target)\n"
   ]
  },
  {
   "cell_type": "code",
   "execution_count": null,
   "metadata": {},
   "outputs": [],
   "source": [
    "print ('Clue for board player 1:', player1, '\\navoids:', player2 + neutral + [assassin])\n",
    "print (clue(model_wiki, player1, player2 + neutral + [assassin], model_sim))"
   ]
  },
  {
   "cell_type": "code",
   "execution_count": null,
   "metadata": {},
   "outputs": [],
   "source": [
    "candidates = clue(model_gnews, board[:2], [], model_sim, sum, n=5)\n",
    "candidates_1 = clue(model_gnews, board[:2], [], model_sim, min, n=5)\n",
    "print (\"SUM\")\n",
    "print ('Top clues for pair', board[:2], ':', candidates)\n",
    "print (\"MIN\")\n",
    "print ('Top clues for pair', board[:2], ':', candidates_1)\n"
   ]
  },
  {
   "cell_type": "code",
   "execution_count": null,
   "metadata": {},
   "outputs": [],
   "source": [
    "candidates = clue(model_wiki, board[:2], [], model_sim, sum, n=5)\n",
    "candidates_1 = clue(model_wiki, board[:2], [], model_sim, min, n=5)\n",
    "print (\"SUM\")\n",
    "print ('Top clues for pair', board[:2], ':', candidates)\n",
    "print (\"MIN\")\n",
    "print ('Top clues for pair', board[:2], ':', candidates_1)\n"
   ]
  },
  {
   "cell_type": "code",
   "execution_count": null,
   "metadata": {},
   "outputs": [],
   "source": [
    "clues = []\n",
    "\n",
    "for i in range(len(player2)):\n",
    "    print (clues)\n",
    "    for j in range(i+1,len(player2)):\n",
    "        targets = []\n",
    "        targets.append(player2[i])\n",
    "        targets.append(player2[j])\n",
    "        candidates = clue(model_gnews, targets, player1, model_sim, min, n=5)\n",
    "        for candidate in candidates:\n",
    "            if len(clues) < 15:\n",
    "                heapq.heappush(clues, (candidate[0], candidate[1], targets[0], targets[1]))\n",
    "            elif candidate[0] > clues[0][0]:\n",
    "                heapq.heapreplace(clues, (candidate[0], candidate[1], targets[0], targets[1]))"
   ]
  },
  {
   "cell_type": "code",
   "execution_count": null,
   "metadata": {},
   "outputs": [],
   "source": [
    "clues_sorted = sorted(clues, key=lambda x: x[0], reverse=False)\n",
    "for c in clues_sorted:\n",
    "    print (c)\n",
    "print (player2)\n",
    "print (player1)"
   ]
  },
  {
   "cell_type": "code",
   "execution_count": null,
   "metadata": {},
   "outputs": [],
   "source": [
    "clues_wiki = []\n",
    "\n",
    "for i in range(len(player2)):\n",
    "    print (clues_wiki)\n",
    "    for j in range(i+1,len(player2)):\n",
    "        targets = []\n",
    "        targets.append(player2[i])\n",
    "        targets.append(player2[j])\n",
    "        candidates = clue(model_wiki, targets, player1, model_sim, min, n=5)\n",
    "        for candidate in candidates:\n",
    "            if len(clues_wiki) < 15:\n",
    "                heapq.heappush(clues_wiki, (candidate[0], candidate[1], targets[0], targets[1]))\n",
    "            elif candidate[0] > clues_wiki[0][0]:\n",
    "                heapq.heapreplace(clues_wiki, (candidate[0], candidate[1], targets[0], targets[1]))"
   ]
  },
  {
   "cell_type": "code",
   "execution_count": null,
   "metadata": {},
   "outputs": [],
   "source": [
    "clues_wiki_sorted = sorted(clues_wiki, key=lambda x: x[0], reverse=False)\n",
    "for c in clues_wiki_sorted:\n",
    "    print (c)\n",
    "print (player2)\n",
    "print (player1)"
   ]
  }
 ],
 "metadata": {
  "kernelspec": {
   "display_name": "Python 3",
   "language": "python",
   "name": "python3"
  },
  "language_info": {
   "codemirror_mode": {
    "name": "ipython",
    "version": 3
   },
   "file_extension": ".py",
   "mimetype": "text/x-python",
   "name": "python",
   "nbconvert_exporter": "python",
   "pygments_lexer": "ipython3",
   "version": "3.6.5"
  }
 },
 "nbformat": 4,
 "nbformat_minor": 2
}
