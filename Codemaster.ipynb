{
 "cells": [
  {
   "cell_type": "code",
   "execution_count": 23,
   "metadata": {},
   "outputs": [],
   "source": [
    "import codemaster as cm\n",
    "import numpy as np\n",
    "import random\n",
    "import gensim\n",
    "from nltk.corpus import words\n",
    "from functools import reduce\n",
    "import heapq\n"
   ]
  },
  {
   "cell_type": "code",
   "execution_count": 76,
   "metadata": {},
   "outputs": [],
   "source": [
    "wrds = np.genfromtxt('wordlist.csv', delimiter=',', dtype=str).tolist()\n",
    "\n",
    "# randomly select 25 cards, then randomly select a side for each\n",
    "board = [x[random.random() > 0.5].lower() for x in random.sample(wrds, 25)]\n",
    "\n",
    "# set up game by assigning each card (agent) a role\n",
    "player1 = board[:9]\n",
    "player2 = board[9:17]\n",
    "neutral = board[17:24]\n",
    "assassin = board[24]\n"
   ]
  },
  {
   "cell_type": "code",
   "execution_count": 24,
   "metadata": {},
   "outputs": [],
   "source": [
    "\n",
    "# load model pre-trained on Google News corpus (downloaded from https://drive.google.com/file/d/0B7XkCwpI5KDYNlNUTTlSS21pQmM/edit)\n",
    "model = gensim.models.KeyedVectors.load_word2vec_format('GoogleNews-vectors-negative300.bin', binary=True)\n",
    "\n",
    "# choose candidate clues from nltk's words corpus, which itself is drawn from the UNIX words file\n",
    "dct = words.words('en')\n"
   ]
  },
  {
   "cell_type": "code",
   "execution_count": 64,
   "metadata": {},
   "outputs": [],
   "source": [
    "# returns potential clues which are closer to all members of targets than all members of avoids, sorted in order of relevance to targets\n",
    "def clue (targets, avoids, similarity_f, score_f, n=1):\n",
    "    topclues = []\n",
    "    for word in dct:\n",
    "        if word not in model.vocab:\n",
    "            continue\n",
    "        if avoids:\n",
    "            target_distances = [similarity_f(word, target) for target in targets]\n",
    "            avoid_distances = [similarity_f(word, avoid) for avoid in avoids]\n",
    "            if max(avoid_distances) > min(target_distances):\n",
    "                continue\n",
    "        score = score_f([similarity_f(word, target) for target in targets])\n",
    "        if reduce((lambda x, y: y not in word and word not in y and x), targets, True):\n",
    "            if len(topclues) < n:\n",
    "                heapq.heappush(topclues, (score, word))\n",
    "            elif score > topclues[0][0]:\n",
    "                heapq.heapreplace(topclues, (score, word))\n",
    "    return sorted(topclues, key=lambda x: x[0], reverse=True)"
   ]
  },
  {
   "cell_type": "code",
   "execution_count": 36,
   "metadata": {},
   "outputs": [],
   "source": [
    "def model_sim(word, target):\n",
    "    return model.similarity(word, target)\n"
   ]
  },
  {
   "cell_type": "code",
   "execution_count": 51,
   "metadata": {},
   "outputs": [
    {
     "name": "stderr",
     "output_type": "stream",
     "text": [
      "D:\\anaconda\\lib\\site-packages\\gensim\\matutils.py:737: FutureWarning: Conversion of the second argument of issubdtype from `int` to `np.signedinteger` is deprecated. In future, it will be treated as `np.int32 == np.dtype(int).type`.\n",
      "  if np.issubdtype(vec.dtype, np.int):\n"
     ]
    },
    {
     "name": "stdout",
     "output_type": "stream",
     "text": [
      "SUM\n",
      "Top clues for pair ['shoe', 'fire'] : [(0.8120177462697029, 'blaze'), (0.7323597595095634, 'footwear'), (0.7172053307294846, 'sandal'), (0.6636006273329258, 'sneaker'), (0.6607478559017181, 'clothing')]\n",
      "MIN\n",
      "Top clues for pair ['shoe', 'fire'] : [(0.25620458, 'candle'), (0.25490576, 'bunkie'), (0.25222316, 'haymow'), (0.25202337, 'snuffer'), (0.24360001, 'sparkler')]\n"
     ]
    }
   ],
   "source": [
    "candidates = clue(board[:2], [], model_sim, sum, n=5)\n",
    "candidates_1 = clue(board[:2], [], model_sim, min, n=5)\n",
    "print (\"SUM\")\n",
    "print ('Top clues for pair', board[:2], ':', candidates)\n",
    "print (\"MIN\")\n",
    "print ('Top clues for pair', board[:2], ':', candidates_1)\n"
   ]
  },
  {
   "cell_type": "code",
   "execution_count": 77,
   "metadata": {},
   "outputs": [
    {
     "name": "stdout",
     "output_type": "stream",
     "text": [
      "[]\n"
     ]
    },
    {
     "name": "stderr",
     "output_type": "stream",
     "text": [
      "D:\\anaconda\\lib\\site-packages\\gensim\\matutils.py:737: FutureWarning: Conversion of the second argument of issubdtype from `int` to `np.signedinteger` is deprecated. In future, it will be treated as `np.int32 == np.dtype(int).type`.\n",
      "  if np.issubdtype(vec.dtype, np.int):\n"
     ]
    },
    {
     "name": "stdout",
     "output_type": "stream",
     "text": [
      "[(0.26510388, 'outpass', 'embassy', 'ball'), (0.26766312, 'cabled', 'embassy', 'satellite'), (0.2711347, 'spy', 'embassy', 'alien'), (0.26921424, 'subversive', 'embassy', 'alien'), (0.27060372, 'palace', 'embassy', 'mint'), (0.3068303, 'delegation', 'embassy', 'trip'), (0.28232914, 'grouplet', 'embassy', 'alien'), (0.32086203, 'emplane', 'embassy', 'trip'), (0.3379429, 'villa', 'embassy', 'compound'), (0.28923923, 'spy', 'embassy', 'satellite'), (0.39866394, 'guesthouse', 'embassy', 'compound'), (0.308164, 'mosque', 'embassy', 'compound'), (0.36451837, 'palace', 'embassy', 'compound'), (0.33849293, 'residence', 'embassy', 'compound'), (0.31807834, 'foreigner', 'embassy', 'alien')]\n",
      "[(0.28088975, 'adventure', 'trip', 'alien'), (0.28390276, 'tourney', 'trip', 'ball'), (0.28232914, 'grouplet', 'embassy', 'alien'), (0.31688452, 'tournament', 'trip', 'ball'), (0.28923923, 'spy', 'embassy', 'satellite'), (0.3068303, 'delegation', 'embassy', 'trip'), (0.29317012, 'visitor', 'trip', 'pupil'), (0.32086203, 'emplane', 'embassy', 'trip'), (0.3379429, 'villa', 'embassy', 'compound'), (0.29591823, 'faraway', 'trip', 'alien'), (0.39866394, 'guesthouse', 'embassy', 'compound'), (0.308164, 'mosque', 'embassy', 'compound'), (0.36451837, 'palace', 'embassy', 'compound'), (0.33849293, 'residence', 'embassy', 'compound'), (0.31807834, 'foreigner', 'embassy', 'alien')]\n",
      "[(0.28912577, 'glaive', 'ball', 'alien'), (0.28923923, 'spy', 'embassy', 'satellite'), (0.2911895, 'sixpence', 'ball', 'mint'), (0.31688452, 'tournament', 'trip', 'ball'), (0.29591823, 'faraway', 'trip', 'alien'), (0.3068303, 'delegation', 'embassy', 'trip'), (0.29317012, 'visitor', 'trip', 'pupil'), (0.32086203, 'emplane', 'embassy', 'trip'), (0.3379429, 'villa', 'embassy', 'compound'), (0.30600333, 'youngster', 'ball', 'pupil'), (0.39866394, 'guesthouse', 'embassy', 'compound'), (0.308164, 'mosque', 'embassy', 'compound'), (0.36451837, 'palace', 'embassy', 'compound'), (0.33849293, 'residence', 'embassy', 'compound'), (0.31807834, 'foreigner', 'embassy', 'alien')]\n",
      "[(0.29440436, 'lupine', 'mint', 'alien'), (0.29591823, 'faraway', 'trip', 'alien'), (0.29834324, 'salicin', 'mint', 'compound'), (0.31688452, 'tournament', 'trip', 'ball'), (0.29690054, 'eugenol', 'mint', 'compound'), (0.3068303, 'delegation', 'embassy', 'trip'), (0.31374758, 'limonene', 'mint', 'compound'), (0.32086203, 'emplane', 'embassy', 'trip'), (0.3379429, 'villa', 'embassy', 'compound'), (0.30600333, 'youngster', 'ball', 'pupil'), (0.39866394, 'guesthouse', 'embassy', 'compound'), (0.308164, 'mosque', 'embassy', 'compound'), (0.36451837, 'palace', 'embassy', 'compound'), (0.33849293, 'residence', 'embassy', 'compound'), (0.31807834, 'foreigner', 'embassy', 'alien')]\n",
      "[(0.3068303, 'delegation', 'embassy', 'trip'), (0.31688452, 'tournament', 'trip', 'ball'), (0.308164, 'mosque', 'embassy', 'compound'), (0.32086203, 'emplane', 'embassy', 'trip'), (0.33073822, 'extrasolar', 'satellite', 'alien'), (0.3201443, 'mothership', 'satellite', 'alien'), (0.31374758, 'limonene', 'mint', 'compound'), (0.32111037, 'unpiloted', 'satellite', 'alien'), (0.3379429, 'villa', 'embassy', 'compound'), (0.3458283, 'interplanetary', 'satellite', 'alien'), (0.39866394, 'guesthouse', 'embassy', 'compound'), (0.32611704, 'lunar', 'satellite', 'alien'), (0.36451837, 'palace', 'embassy', 'compound'), (0.33849293, 'residence', 'embassy', 'compound'), (0.31807834, 'foreigner', 'embassy', 'alien')]\n",
      "[(0.3068303, 'delegation', 'embassy', 'trip'), (0.31688452, 'tournament', 'trip', 'ball'), (0.308164, 'mosque', 'embassy', 'compound'), (0.32086203, 'emplane', 'embassy', 'trip'), (0.33073822, 'extrasolar', 'satellite', 'alien'), (0.3201443, 'mothership', 'satellite', 'alien'), (0.31374758, 'limonene', 'mint', 'compound'), (0.32111037, 'unpiloted', 'satellite', 'alien'), (0.3379429, 'villa', 'embassy', 'compound'), (0.3458283, 'interplanetary', 'satellite', 'alien'), (0.39866394, 'guesthouse', 'embassy', 'compound'), (0.32611704, 'lunar', 'satellite', 'alien'), (0.36451837, 'palace', 'embassy', 'compound'), (0.33849293, 'residence', 'embassy', 'compound'), (0.31807834, 'foreigner', 'embassy', 'alien')]\n",
      "[(0.3068303, 'delegation', 'embassy', 'trip'), (0.31688452, 'tournament', 'trip', 'ball'), (0.308164, 'mosque', 'embassy', 'compound'), (0.32086203, 'emplane', 'embassy', 'trip'), (0.33073822, 'extrasolar', 'satellite', 'alien'), (0.3201443, 'mothership', 'satellite', 'alien'), (0.31374758, 'limonene', 'mint', 'compound'), (0.32111037, 'unpiloted', 'satellite', 'alien'), (0.3379429, 'villa', 'embassy', 'compound'), (0.3458283, 'interplanetary', 'satellite', 'alien'), (0.39866394, 'guesthouse', 'embassy', 'compound'), (0.32611704, 'lunar', 'satellite', 'alien'), (0.36451837, 'palace', 'embassy', 'compound'), (0.33849293, 'residence', 'embassy', 'compound'), (0.31807834, 'foreigner', 'embassy', 'alien')]\n"
     ]
    }
   ],
   "source": [
    "clues = []\n",
    "\n",
    "for i in range(len(player2)):\n",
    "    print (clues)\n",
    "    for j in range(i+1,len(player2)):\n",
    "        targets = []\n",
    "        targets.append(player2[i])\n",
    "        targets.append(player2[j])\n",
    "        candidates = clue(targets, player1, model_sim, min, n=5)\n",
    "        for candidate in candidates:\n",
    "            if len(clues) < 15:\n",
    "                heapq.heappush(clues, (candidate[0], candidate[1], targets[0], targets[1]))\n",
    "            elif candidate[0] > clues[0][0]:\n",
    "                heapq.heapreplace(clues, (candidate[0], candidate[1], targets[0], targets[1]))"
   ]
  },
  {
   "cell_type": "code",
   "execution_count": 78,
   "metadata": {},
   "outputs": [
    {
     "name": "stdout",
     "output_type": "stream",
     "text": [
      "(0.3068303, 'delegation', 'embassy', 'trip')\n",
      "(0.308164, 'mosque', 'embassy', 'compound')\n",
      "(0.31374758, 'limonene', 'mint', 'compound')\n",
      "(0.31688452, 'tournament', 'trip', 'ball')\n",
      "(0.31807834, 'foreigner', 'embassy', 'alien')\n",
      "(0.3201443, 'mothership', 'satellite', 'alien')\n",
      "(0.32086203, 'emplane', 'embassy', 'trip')\n",
      "(0.32111037, 'unpiloted', 'satellite', 'alien')\n",
      "(0.32611704, 'lunar', 'satellite', 'alien')\n",
      "(0.33073822, 'extrasolar', 'satellite', 'alien')\n",
      "(0.3379429, 'villa', 'embassy', 'compound')\n",
      "(0.33849293, 'residence', 'embassy', 'compound')\n",
      "(0.3458283, 'interplanetary', 'satellite', 'alien')\n",
      "(0.36451837, 'palace', 'embassy', 'compound')\n",
      "(0.39866394, 'guesthouse', 'embassy', 'compound')\n",
      "['embassy', 'trip', 'ball', 'mint', 'satellite', 'alien', 'pupil', 'compound']\n",
      "['plane', 'state', 'cap', 'octopus', 'organ', 'van', 'thumb', 'ray', 'court']\n"
     ]
    }
   ],
   "source": [
    "clues_sorted = sorted(clues, key=lambda x: x[0], reverse=False)\n",
    "for c in clues_sorted:\n",
    "    print (c)\n",
    "print (player2)\n",
    "print (player1)"
   ]
  },
  {
   "cell_type": "code",
   "execution_count": null,
   "metadata": {},
   "outputs": [],
   "source": []
  }
 ],
 "metadata": {
  "kernelspec": {
   "display_name": "Python 3",
   "language": "python",
   "name": "python3"
  },
  "language_info": {
   "codemirror_mode": {
    "name": "ipython",
    "version": 3
   },
   "file_extension": ".py",
   "mimetype": "text/x-python",
   "name": "python",
   "nbconvert_exporter": "python",
   "pygments_lexer": "ipython3",
   "version": "3.6.4"
  }
 },
 "nbformat": 4,
 "nbformat_minor": 2
}
